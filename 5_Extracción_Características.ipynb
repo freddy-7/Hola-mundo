{
  "nbformat": 4,
  "nbformat_minor": 0,
  "metadata": {
    "colab": {
      "provenance": [],
      "authorship_tag": "ABX9TyOxAMD/06SxJiebTy4GYBAV",
      "include_colab_link": true
    },
    "kernelspec": {
      "name": "python3",
      "display_name": "Python 3"
    },
    "language_info": {
      "name": "python"
    }
  },
  "cells": [
    {
      "cell_type": "markdown",
      "metadata": {
        "id": "view-in-github",
        "colab_type": "text"
      },
      "source": [
        "<a href=\"https://colab.research.google.com/github/freddy-7/Hola-mundo/blob/main/5_Extracci%C3%B3n_Caracter%C3%ADsticas.ipynb\" target=\"_parent\"><img src=\"https://colab.research.google.com/assets/colab-badge.svg\" alt=\"Open In Colab\"/></a>"
      ]
    },
    {
      "cell_type": "code",
      "source": [
        "#Instalamos librería para análisis de variables categóricas\n",
        "%pip install funpymodeling"
      ],
      "metadata": {
        "id": "wDMKvQntqD1Q"
      },
      "execution_count": null,
      "outputs": []
    },
    {
      "cell_type": "code",
      "execution_count": 3,
      "metadata": {
        "id": "zhC58rASo7Qa"
      },
      "outputs": [],
      "source": [
        "#Importamos las librerias pandas, numpy y matplotlib respectivamente\n",
        "import pandas as pd\n",
        "import numpy as np\n",
        "import matplotlib.pyplot as plt\n",
        "from funpymodeling.exploratory import freq_tbl "
      ]
    },
    {
      "cell_type": "code",
      "source": [
        "#Cargar archivo csv desde equipo\n",
        "from google.colab import files\n",
        "files.upload()"
      ],
      "metadata": {
        "id": "GO7xOXWop1kp"
      },
      "execution_count": null,
      "outputs": []
    },
    {
      "cell_type": "code",
      "source": [
        "#Carga desde un archivo .xlsx sin indice\n",
        "Micro_Retailer= pd.read_excel('microretailer_mit_lift_lab.xlsx') "
      ],
      "metadata": {
        "id": "i_U45QTIqb63"
      },
      "execution_count": 7,
      "outputs": []
    },
    {
      "cell_type": "code",
      "source": [
        "#Verificamos información del DataFrame\n",
        "Micro_Retailer.info()"
      ],
      "metadata": {
        "id": "bpssXzJMrpAG"
      },
      "execution_count": null,
      "outputs": []
    },
    {
      "cell_type": "code",
      "source": [
        "#Imprimo los primeros 5 registro del dataframe\n",
        "Micro_Retailer.head()"
      ],
      "metadata": {
        "id": "BwmBCSk6rtoT"
      },
      "execution_count": null,
      "outputs": []
    },
    {
      "cell_type": "code",
      "source": [
        "#Obtengo un análisis univariado de las variables categóricas\n",
        "freq_tbl(Micro_Retailer)"
      ],
      "metadata": {
        "id": "6CRAlP2DsSb4"
      },
      "execution_count": null,
      "outputs": []
    },
    {
      "cell_type": "code",
      "source": [],
      "metadata": {
        "id": "4_5T8b2Er-A9"
      },
      "execution_count": null,
      "outputs": []
    }
  ]
}